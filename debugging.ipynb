{
 "cells": [
  {
   "cell_type": "markdown",
   "metadata": {},
   "source": [
    "## setup "
   ]
  },
  {
   "cell_type": "code",
   "execution_count": 1,
   "metadata": {},
   "outputs": [
    {
     "name": "stdout",
     "output_type": "stream",
     "text": [
      "title,author,completed,rating,summary\n",
      "To Kill a Mockingbird,Harper Lee,False,,\n",
      "Pride and Prejudice,Jane Austen,False,,\n",
      "1984,George Orwell,False,,\n",
      "The Great Gatsby,F. Scott Fitzgerald,False,,\n",
      "Moby-Dick,Herman Melville,False,,\n",
      "The Catcher in the Rye,J.D. Salinger,False,,\n",
      "The Lord of the Rings,J.R.R. Tolkien,False,,\n",
      "The Odyssey,Homer,False,,\n",
      "War and Peace,Leo Tolstoy,False,,\n",
      "The Adventures of Huckleberry Finn,Mark Twain,False,,\n",
      "Crime and Punishment,Fyodor Dostoevsky,False,,\n",
      "The Divine Comedy,Dante Alighieri,False,,\n",
      "One Hundred Years of Solitude,Gabriel Garcia Marquez,False,,\n",
      "The Brothers Karamazov,Fyodor Dostoevsky,False,,\n",
      "Jane Eyre,Charlotte Bronte,False,,\n",
      "The Hobbit,J.R.R. Tolkien,False,,\n",
      "Don Quixote,Miguel de Cervantes Saavedra,False,,\n",
      "The Grapes of Wrath,John Steinbeck,False,,\n",
      "Anna Karenina,Leo Tolstoy,False,,\n",
      "The Picture of Dorian Gray,Oscar Wilde,False,,\n",
      "Brave New World,Aldous Huxley,False,,\n",
      "The Iliad,Homer,False,,\n",
      "The Count of Monte Cristo,Alexandre Dumas,False,,\n",
      "Frankenstein,Mary Shelley,False,,\n",
      "The Scarlet Letter,Nathaniel Hawthorne,False,,\n"
     ]
    }
   ],
   "source": [
    "import tests.test_utils as test_utils \n",
    "test_utils.test_bookstring_to_csv()"
   ]
  },
  {
   "cell_type": "markdown",
   "metadata": {},
   "source": [
    "## notion api "
   ]
  },
  {
   "cell_type": "code",
   "execution_count": 1,
   "metadata": {},
   "outputs": [],
   "source": [
    "import os\n",
    "from notion_client import Client\n",
    "from dotenv import load_dotenv\n",
    "\n",
    "load_dotenv() \n",
    "notion_token = os.getenv(\"TEST_NOTION_SECRET_KEY\")\n",
    "\n",
    "notion = Client(auth=notion_token)"
   ]
  },
  {
   "cell_type": "code",
   "execution_count": 2,
   "metadata": {},
   "outputs": [],
   "source": [
    "database_id = os.getenv(\"TEST_DB_ID\")\n",
    "database = notion.databases.query(\n",
    "    database_id=database_id\n",
    ")"
   ]
  },
  {
   "cell_type": "code",
   "execution_count": 4,
   "metadata": {},
   "outputs": [
    {
     "name": "stdout",
     "output_type": "stream",
     "text": [
      "2\n"
     ]
    }
   ],
   "source": [
    "print(len(database['results']))"
   ]
  },
  {
   "cell_type": "code",
   "execution_count": 5,
   "metadata": {},
   "outputs": [
    {
     "name": "stdout",
     "output_type": "stream",
     "text": [
      "Simon Chuang is a person 🙋‍♂️\n",
      "python-sdk-test is a bot 😅\n"
     ]
    }
   ],
   "source": [
    "users = notion.users.list()\n",
    "\n",
    "for user in users.get(\"results\"):\n",
    "    name, user_type = user[\"name\"], user[\"type\"]\n",
    "    emoji = \"😅\" if user[\"type\"] == \"bot\" else \"🙋‍♂️\"\n",
    "    print(f\"{name} is a {user_type} {emoji}\")"
   ]
  },
  {
   "cell_type": "code",
   "execution_count": 23,
   "metadata": {},
   "outputs": [
    {
     "name": "stdout",
     "output_type": "stream",
     "text": [
      "{'object': 'database', 'id': '86534aad-6848-4033-9f09-37583a1260d5', 'cover': None, 'icon': None, 'created_time': '2024-04-18T19:51:00.000Z', 'created_by': {'object': 'user', 'id': 'c70a1832-b747-4b84-a7fd-411e51db197d'}, 'last_edited_by': {'object': 'user', 'id': 'c70a1832-b747-4b84-a7fd-411e51db197d'}, 'last_edited_time': '2024-04-18T19:51:00.000Z', 'title': [{'type': 'text', 'text': {'content': 'Test Database', 'link': None}, 'annotations': {'bold': False, 'italic': False, 'strikethrough': False, 'underline': False, 'code': False, 'color': 'default'}, 'plain_text': 'Test Database', 'href': None}], 'description': [], 'is_inline': False, 'properties': {'Rating': {'id': 'QFiO', 'name': 'Rating', 'type': 'select', 'select': {'options': [{'id': 'cb26fadf-0c4e-4405-879d-d0ea049a376f', 'name': '⭐', 'color': 'yellow', 'description': None}, {'id': '35066163-449a-4755-b6e4-7799dc8e2079', 'name': '⭐⭐', 'color': 'yellow', 'description': None}, {'id': '80863e92-2779-47c8-9e6c-86f40960e845', 'name': '⭐⭐⭐', 'color': 'yellow', 'description': None}, {'id': 'd9de2a3c-0f8a-494c-8f0a-c2f1af5c783e', 'name': '⭐⭐⭐⭐', 'color': 'yellow', 'description': None}, {'id': 'f0022730-77a2-434b-a7cb-4b20230cc6b1', 'name': '⭐⭐⭐⭐⭐', 'color': 'yellow', 'description': None}, {'id': '83332143-c439-4d85-ac65-d435d74c656d', 'name': 'Not Rated', 'color': 'default', 'description': None}]}}, 'Genre': {'id': 'Xw%40u', 'name': 'Genre', 'type': 'select', 'select': {'options': [{'id': '391e40ff-3985-4b51-b4da-f44d4a4e55f6', 'name': 'Fiction', 'color': 'default', 'description': None}, {'id': 'dfe501c7-5f08-4397-90aa-2806ffc020c2', 'name': 'Non Fiction', 'color': 'default', 'description': None}, {'id': '131bfe7d-0a7c-43cf-a8f7-481033e12354', 'name': 'Biography', 'color': 'default', 'description': None}, {'id': '29c0bf15-ed89-4640-97dc-78b0b06ed7ce', 'name': 'Mystery', 'color': 'default', 'description': None}, {'id': '0a32a0c2-0a8e-474b-a899-202280bba851', 'name': 'Fantasy', 'color': 'default', 'description': None}, {'id': '0c470099-fad4-4a23-b4ef-71f3d402b187', 'name': 'Science Fiction', 'color': 'default', 'description': None}, {'id': '1ac390cc-4b00-402b-99d7-f1deb48c8f39', 'name': 'Historical', 'color': 'default', 'description': None}, {'id': 'dbb001a6-b3c6-43e6-b525-4a2d55762c19', 'name': 'Romance', 'color': 'default', 'description': None}, {'id': '0598a606-3bde-4a8b-a70c-34cd5a7056db', 'name': 'Thriller', 'color': 'default', 'description': None}, {'id': '00a088a8-eb6c-4cdb-b24f-6813ce36cac8', 'name': 'Self Help', 'color': 'default', 'description': None}, {'id': '4fc3720d-8f86-43d3-b31e-ee641d7c514e', 'name': 'Poetry', 'color': 'default', 'description': None}, {'id': 'e3a92700-9876-42f1-8642-cdd1f9be1b6e', 'name': 'Graphic Novel', 'color': 'default', 'description': None}, {'id': 'f932f072-340d-42aa-b290-476c1d12c20f', 'name': 'Adventure', 'color': 'default', 'description': None}, {'id': '09070153-85f8-4798-9f33-a4a7215bbae2', 'name': 'Horror', 'color': 'default', 'description': None}, {'id': '7c1ae982-b703-4267-836f-7ee5b2d14177', 'name': 'True Crime', 'color': 'default', 'description': None}, {'id': 'd696be12-996e-4d62-a352-8174d80a75d7', 'name': 'Childrens', 'color': 'default', 'description': None}, {'id': 'e69d8463-8694-43bc-8ee5-e48b98f1601c', 'name': 'Young Adult', 'color': 'default', 'description': None}, {'id': '0800132f-4612-4226-9788-626096c8f531', 'name': 'Classic Literature', 'color': 'default', 'description': None}, {'id': '3d930cfe-5995-4703-9796-ada11ca14686', 'name': 'Philosophy', 'color': 'default', 'description': None}, {'id': '89a1a072-5d24-4bff-8846-c74bb639765a', 'name': 'Anthology', 'color': 'default', 'description': None}, {'id': 'd0162a8e-cdaf-44a5-81e0-78ad21850036', 'name': 'Memoir', 'color': 'default', 'description': None}, {'id': '33e42bef-9cb9-4b99-a336-9c80411092fc', 'name': 'Short Story', 'color': 'default', 'description': None}, {'id': '7d9e6afe-d026-4d4c-bdd6-731901c8e60c', 'name': 'Historical Fiction', 'color': 'default', 'description': None}]}}, 'Recommended By': {'id': 'YBcd', 'name': 'Recommended By', 'type': 'select', 'select': {'options': []}}, 'Author': {'id': 'ahm%5B', 'name': 'Author', 'type': 'rich_text', 'rich_text': {}}, 'Want To Read': {'id': 'hFtI', 'name': 'Want To Read', 'type': 'multi_select', 'multi_select': {'options': []}}, 'Status': {'id': 'i%5Eo%5C', 'name': 'Status', 'type': 'select', 'select': {'options': [{'id': '65be6246-afa2-45c6-94d3-0b4172a77f4b', 'name': 'Completed', 'color': 'green', 'description': None}, {'id': '3b8e48a1-4152-4624-b87d-9adfb970f6e0', 'name': 'Not Started', 'color': 'gray', 'description': None}, {'id': '4635d9a4-1274-4305-afe4-44bfdfd9fe07', 'name': 'In Progress', 'color': 'orange', 'description': None}]}}, 'Title': {'id': 'title', 'name': 'Title', 'type': 'title', 'title': {}}}, 'parent': {'type': 'page_id', 'page_id': '0c16ae29-2a36-49a7-8a53-e46d6882d3c6'}, 'url': 'https://www.notion.so/86534aad684840339f0937583a1260d5', 'public_url': None, 'archived': False, 'in_trash': False, 'request_id': 'f8d03fc7-9dec-4192-a6b6-28bc5c221e31'}\n"
     ]
    }
   ],
   "source": [
    "from notion_client import Client\n",
    "from dotenv import load_dotenv\n",
    "import os\n",
    "\n",
    "# Load environment variables\n",
    "load_dotenv()\n",
    "\n",
    "page_id = os.getenv('PARENT_TEST_PAGE')\n",
    "api_key = os.getenv('TEST_NOTION_SECRET_KEY') \n",
    "\n",
    "# Initialize the Notion client\n",
    "notion = Client(auth=api_key)\n",
    "\n",
    "args = {\n",
    "        \"parent\": {\n",
    "            \"type\": \"page_id\",\n",
    "            \"page_id\": page_id,\n",
    "        },\n",
    "        \"title\": [\n",
    "            {\n",
    "                \"type\": \"text\",\n",
    "                \"text\": {\n",
    "                    \"content\": \"Test Database\",\n",
    "                },\n",
    "            },\n",
    "        ],\n",
    "        \"properties\": {\n",
    "            \"Title\": {\n",
    "                \"type\": \"title\",\n",
    "                \"title\": {},\n",
    "            },\n",
    "            \"Author\": {\n",
    "                \"type\": \"rich_text\",\n",
    "                \"rich_text\": {},\n",
    "            },            \n",
    "            \"Genre\": {\n",
    "                \"type\": \"select\",\n",
    "                \"select\": {\n",
    "                    \"options\": [\n",
    "                        {\"name\": \"Fantasy\", \"color\": \"blue\"},\n",
    "                        {\"name\": \"Sci-Fi\", \"color\": \"purple\"},\n",
    "                        {\"name\": \"Mystery\", \"color\": \"gray\"},\n",
    "                        {\"name\": \"Non-Fiction\", \"color\": \"brown\"},\n",
    "                        # Add more genres as needed\n",
    "                    ]\n",
    "                }\n",
    "            },\n",
    "            \"Status\":{\n",
    "                \"type\": \"select\", \n",
    "                \"select\": {\n",
    "                    \"options\" :[ \n",
    "                        {\n",
    "                            \"name\": \"Completed\", \n",
    "                            \"color\": \"green\"\n",
    "                        }, \n",
    "                        {\n",
    "                            \"name\": \"Not Started\", \n",
    "                            \"color\": \"gray\"\n",
    "                        },                         \n",
    "                        {\n",
    "                            \"name\": \"In Progress\", \n",
    "                            \"color\": \"orange\"\n",
    "                        }, \n",
    "                    ]\n",
    "                }\n",
    "            },\n",
    "            \"Rating\": {\n",
    "                \"type\": \"select\",\n",
    "                \"select\": {\n",
    "                    \"options\": [\n",
    "                        {\"name\": \"⭐\", \"color\": \"yellow\"},\n",
    "                        {\"name\": \"⭐⭐\", \"color\": \"yellow\"},\n",
    "                        {\"name\": \"⭐⭐⭐\", \"color\": \"yellow\"},\n",
    "                        {\"name\": \"⭐⭐⭐⭐\", \"color\": \"yellow\"},\n",
    "                        {\"name\": \"⭐⭐⭐⭐⭐\", \"color\": \"yellow\"},\n",
    "                        {\"name\": \"Not Rated\", \"color\": \"default\"} \n",
    "                    ]\n",
    "                }\n",
    "            },\n",
    "            \"Recommended By\": {\n",
    "                \"type\": \"select\",\n",
    "                \"select\": {}\n",
    "            },\n",
    "            \"Want To Read\": {\n",
    "                \"type\": \"multi_select\", \n",
    "                \"multi_select\": {} \n",
    "            }          \n",
    "        }\n",
    "    }\n",
    "\n",
    "\n",
    "valid_genres = [\n",
    "                'fiction', 'non-fiction', 'biography', 'mystery', 'fantasy', 'science-fiction',\n",
    "                'historical', 'romance', 'thriller', 'self-help', 'poetry', 'graphic-novel', \n",
    "                'adventure', 'horror', 'true-crime', 'childrens', 'young-adult', 'classic-literature', \n",
    "                'philosophy', 'anthology', 'memoir', 'short-story', 'historical-fiction', \n",
    "]\n",
    "\n",
    "args[\"properties\"][\"Genre\"] = {\n",
    "    \"type\": \"select\",\n",
    "    \"select\": {\n",
    "        \"options\": [\n",
    "            {\"name\": genre.replace('-', ' ').title(), \"color\": \"default\"} \n",
    "            for genre in valid_genres\n",
    "        ]\n",
    "    }\n",
    "}\n",
    "\n",
    "\n",
    "response = notion.databases.create(**args)\n",
    "print(response)"
   ]
  },
  {
   "cell_type": "code",
   "execution_count": 38,
   "metadata": {},
   "outputs": [
    {
     "name": "stdout",
     "output_type": "stream",
     "text": [
      "ec3b96ce-c7b5-4e47-826f-33d2f4666c4f\n"
     ]
    }
   ],
   "source": [
    "## Add Page \n",
    "from notion_client import Client\n",
    "from dotenv import load_dotenv\n",
    "from bookbridge.utils import * \n",
    "import os\n",
    "\n",
    "# Load environment variables\n",
    "load_dotenv()\n",
    "\n",
    "# use existing database as parent page \n",
    "api_key = os.getenv('TEST_NOTION_SECRET_KEY') \n",
    "parent_page= os.getenv('PARENT_TEST_PAGE')\n",
    "# create new database \n",
    "db_id = create_booklist_database(parent_page = parent_page, notion_key = api_key)\n",
    "print(db_id)"
   ]
  },
  {
   "cell_type": "code",
   "execution_count": 41,
   "metadata": {},
   "outputs": [
    {
     "data": {
      "text/plain": [
       "{'object': 'page',\n",
       " 'id': '346aab6d-2a29-46d3-b459-698703046abb',\n",
       " 'created_time': '2024-04-19T19:47:00.000Z',\n",
       " 'last_edited_time': '2024-04-19T19:47:00.000Z',\n",
       " 'created_by': {'object': 'user',\n",
       "  'id': 'c70a1832-b747-4b84-a7fd-411e51db197d'},\n",
       " 'last_edited_by': {'object': 'user',\n",
       "  'id': 'c70a1832-b747-4b84-a7fd-411e51db197d'},\n",
       " 'cover': None,\n",
       " 'icon': {'type': 'emoji', 'emoji': '📖'},\n",
       " 'parent': {'type': 'database_id',\n",
       "  'database_id': 'ec3b96ce-c7b5-4e47-826f-33d2f4666c4f'},\n",
       " 'archived': False,\n",
       " 'in_trash': False,\n",
       " 'properties': {'Want To Read': {'id': 'AiiV',\n",
       "   'type': 'multi_select',\n",
       "   'multi_select': []},\n",
       "  'Recommended By': {'id': 'UYTR', 'type': 'select', 'select': None},\n",
       "  'Rating': {'id': '%5DoKE',\n",
       "   'type': 'select',\n",
       "   'select': {'id': 'e1c434e7-fc71-4a18-846e-85f4b1ac6986',\n",
       "    'name': 'Not Rated',\n",
       "    'color': 'default'}},\n",
       "  'Genre': {'id': 'fm%40a',\n",
       "   'type': 'select',\n",
       "   'select': {'id': 'f176e71b-48bc-433d-abee-73207f674c8b',\n",
       "    'name': 'Classic Literature',\n",
       "    'color': 'default'}},\n",
       "  'Status': {'id': 'jfnV',\n",
       "   'type': 'select',\n",
       "   'select': {'id': '51621440-0ef3-42ba-b082-e506badfc381',\n",
       "    'name': 'Not Started',\n",
       "    'color': 'gray'}},\n",
       "  'Author': {'id': 't%7D%7Dw',\n",
       "   'type': 'rich_text',\n",
       "   'rich_text': [{'type': 'text',\n",
       "     'text': {'content': 'Fyodor Dostoevsky', 'link': None},\n",
       "     'annotations': {'bold': False,\n",
       "      'italic': False,\n",
       "      'strikethrough': False,\n",
       "      'underline': False,\n",
       "      'code': False,\n",
       "      'color': 'default'},\n",
       "     'plain_text': 'Fyodor Dostoevsky',\n",
       "     'href': None}]},\n",
       "  'Title': {'id': 'title',\n",
       "   'type': 'title',\n",
       "   'title': [{'type': 'text',\n",
       "     'text': {'content': 'Crime and Punishment', 'link': None},\n",
       "     'annotations': {'bold': False,\n",
       "      'italic': False,\n",
       "      'strikethrough': False,\n",
       "      'underline': False,\n",
       "      'code': False,\n",
       "      'color': 'default'},\n",
       "     'plain_text': 'Crime and Punishment',\n",
       "     'href': None}]}},\n",
       " 'url': 'https://www.notion.so/Crime-and-Punishment-346aab6d2a2946d3b459698703046abb',\n",
       " 'public_url': None,\n",
       " 'request_id': '3e4a5830-278e-49ad-bb6a-52f0b1008a81'}"
      ]
     },
     "execution_count": 41,
     "metadata": {},
     "output_type": "execute_result"
    }
   ],
   "source": [
    "book = sample_book() \n",
    "\n",
    "# Initialize the Notion client\n",
    "notion = Client(auth=api_key)\n",
    "\n",
    "# construct args\n",
    "parent= {\"database_id\":db_id}\n",
    "icon= infer_emoji(book)\n",
    "icon=   {\n",
    "            \"emoji\":icon \n",
    "        }\n",
    "\n",
    "status_name = \"Completed\" if book.completed else \"Not Started\"\n",
    "\n",
    "properties = {\n",
    "    'Title': {\n",
    "        \"title\": [\n",
    "            {\"text\": {\"content\": book.title}}\n",
    "        ]\n",
    "    },\n",
    "    'Rating': {\n",
    "        \"select\": {\n",
    "            \"name\":\"Not Rated\"\n",
    "        }\n",
    "    },\n",
    "    'Author': {\n",
    "        \"rich_text\": [\n",
    "            {\"text\": {\"content\": book.author}}\n",
    "        ]\n",
    "    },\n",
    "    'Status': {\n",
    "        \"select\": {\"name\":status_name}\n",
    "    },\n",
    "    'Genre': {\n",
    "        \"select\": {\"name\":book.genre.replace('-', ' ').title()}\n",
    "    },\n",
    "}\n",
    "\n",
    "children = [\n",
    "    {\n",
    "        \"object\": \"block\",\n",
    "        \"type\": \"paragraph\",\n",
    "        \"paragraph\": {\n",
    "            \"text\": [\n",
    "                {\n",
    "                    \"type\": \"text\",\n",
    "                    \"text\": {\n",
    "                        \"content\": book.blurb\n",
    "                    }\n",
    "                }\n",
    "            ]\n",
    "        }\n",
    "    }\n",
    "]\n",
    "\n",
    "args = {\n",
    "    \"parent\":parent,\n",
    "    \"properties\":properties,\n",
    "    \"icon\":icon, \n",
    "    \"children\":chilren\n",
    "}\n",
    "\n",
    "#api call \n",
    "notion.pages.create(**args)"
   ]
  }
 ],
 "metadata": {
  "kernelspec": {
   "display_name": "Python 3",
   "language": "python",
   "name": "python3"
  },
  "language_info": {
   "codemirror_mode": {
    "name": "ipython",
    "version": 3
   },
   "file_extension": ".py",
   "mimetype": "text/x-python",
   "name": "python",
   "nbconvert_exporter": "python",
   "pygments_lexer": "ipython3",
   "version": "3.10.10"
  }
 },
 "nbformat": 4,
 "nbformat_minor": 2
}
