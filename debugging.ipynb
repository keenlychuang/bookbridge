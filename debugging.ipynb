{
 "cells": [
  {
   "cell_type": "code",
   "execution_count": 1,
   "metadata": {},
   "outputs": [
    {
     "name": "stderr",
     "output_type": "stream",
     "text": [
      "Processing Rows: 10it [00:00, 44431.19it/s]\n",
      "autofilling fields: 100%|██████████| 10/10 [00:23<00:00,  2.37s/it]\n",
      "converting to notion:  10%|█         | 1/10 [00:03<00:29,  3.30s/it]"
     ]
    }
   ],
   "source": [
    "from tests.test_utils import * \n",
    "test_pdf_to_notion_10() "
   ]
  },
  {
   "cell_type": "code",
   "execution_count": 4,
   "metadata": {},
   "outputs": [
    {
     "name": "stderr",
     "output_type": "stream",
     "text": [
      "Inner loop: 100%|██████████| 10/10 [00:01<00:00,  9.42it/s]\n",
      "Inner loop: 100%|██████████| 10/10 [00:01<00:00,  9.38it/s]\n",
      "Inner loop: 100%|██████████| 10/10 [00:01<00:00,  9.35it/s]\n",
      "Inner loop: 100%|██████████| 10/10 [00:01<00:00,  9.40it/s]\n",
      "Inner loop: 100%|██████████| 10/10 [00:01<00:00,  9.38it/s]\n",
      "Outer loop: 100%|██████████| 5/5 [00:05<00:00,  1.07s/it]\n"
     ]
    }
   ],
   "source": [
    "from tqdm import tqdm\n",
    "import time\n",
    "\n",
    "for i in tqdm(range(5), desc='Outer loop'):  # Outer loop progress bar\n",
    "    for j in tqdm(range(10), desc='Inner loop'):  # Inner loop progress bar\n",
    "        time.sleep(0.1)  # Simulating some work"
   ]
  }
 ],
 "metadata": {
  "kernelspec": {
   "display_name": "Python 3",
   "language": "python",
   "name": "python3"
  },
  "language_info": {
   "codemirror_mode": {
    "name": "ipython",
    "version": 3
   },
   "file_extension": ".py",
   "mimetype": "text/x-python",
   "name": "python",
   "nbconvert_exporter": "python",
   "pygments_lexer": "ipython3",
   "version": "3.10.10"
  }
 },
 "nbformat": 4,
 "nbformat_minor": 2
}
