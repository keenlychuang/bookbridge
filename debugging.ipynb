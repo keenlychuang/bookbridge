{
 "cells": [
  {
   "cell_type": "markdown",
   "metadata": {},
   "source": [
    "## setup "
   ]
  },
  {
   "cell_type": "code",
   "execution_count": 1,
   "metadata": {},
   "outputs": [
    {
     "name": "stdout",
     "output_type": "stream",
     "text": [
      "title,author,completed,rating,summary\n",
      "To Kill a Mockingbird,Harper Lee,False,,\n",
      "Pride and Prejudice,Jane Austen,False,,\n",
      "1984,George Orwell,False,,\n",
      "The Great Gatsby,F. Scott Fitzgerald,False,,\n",
      "Moby-Dick,Herman Melville,False,,\n",
      "The Catcher in the Rye,J.D. Salinger,False,,\n",
      "The Lord of the Rings,J.R.R. Tolkien,False,,\n",
      "The Odyssey,Homer,False,,\n",
      "War and Peace,Leo Tolstoy,False,,\n",
      "The Adventures of Huckleberry Finn,Mark Twain,False,,\n",
      "Crime and Punishment,Fyodor Dostoevsky,False,,\n",
      "The Divine Comedy,Dante Alighieri,False,,\n",
      "One Hundred Years of Solitude,Gabriel Garcia Marquez,False,,\n",
      "The Brothers Karamazov,Fyodor Dostoevsky,False,,\n",
      "Jane Eyre,Charlotte Bronte,False,,\n",
      "The Hobbit,J.R.R. Tolkien,False,,\n",
      "Don Quixote,Miguel de Cervantes Saavedra,False,,\n",
      "The Grapes of Wrath,John Steinbeck,False,,\n",
      "Anna Karenina,Leo Tolstoy,False,,\n",
      "The Picture of Dorian Gray,Oscar Wilde,False,,\n",
      "Brave New World,Aldous Huxley,False,,\n",
      "The Iliad,Homer,False,,\n",
      "The Count of Monte Cristo,Alexandre Dumas,False,,\n",
      "Frankenstein,Mary Shelley,False,,\n",
      "The Scarlet Letter,Nathaniel Hawthorne,False,,\n"
     ]
    }
   ],
   "source": [
    "import tests.test_utils as test_utils \n",
    "test_utils.test_bookstring_to_csv()"
   ]
  }
 ],
 "metadata": {
  "kernelspec": {
   "display_name": "Python 3",
   "language": "python",
   "name": "python3"
  },
  "language_info": {
   "codemirror_mode": {
    "name": "ipython",
    "version": 3
   },
   "file_extension": ".py",
   "mimetype": "text/x-python",
   "name": "python",
   "nbconvert_exporter": "python",
   "pygments_lexer": "ipython3",
   "version": "3.10.10"
  }
 },
 "nbformat": 4,
 "nbformat_minor": 2
}
