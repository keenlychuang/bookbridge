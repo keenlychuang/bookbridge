{
 "cells": [
  {
   "cell_type": "code",
   "execution_count": 1,
   "metadata": {},
   "outputs": [
    {
     "name": "stdout",
     "output_type": "stream",
     "text": [
      "Reading through your booklist...\n",
      "Restructuring your booklist...\n"
     ]
    },
    {
     "name": "stderr",
     "output_type": "stream",
     "text": [
      "Processing Rows: 10it [00:00, 42538.58it/s]\n",
      "autofilling fields: 100%|██████████| 10/10 [00:08<00:00,  1.21it/s]\n"
     ]
    },
    {
     "name": "stdout",
     "output_type": "stream",
     "text": [
      "Creating a Notion page for you...\n",
      "Notion Page ID: 86b6f5858bcf4ec797177c5ac80fcd63\n"
     ]
    },
    {
     "name": "stderr",
     "output_type": "stream",
     "text": [
      "converting to notion: 100%|██████████| 10/10 [00:20<00:00,  2.02s/it]"
     ]
    },
    {
     "name": "stdout",
     "output_type": "stream",
     "text": [
      "Go Check Out Your New Page: https://www.notion.so/86b6f5858bcf4ec797177c5ac80fcd63\n"
     ]
    },
    {
     "name": "stderr",
     "output_type": "stream",
     "text": [
      "\n"
     ]
    }
   ],
   "source": [
    "from tests.test_utils import * \n",
    "test_pdf_to_notion_10() "
   ]
  },
  {
   "cell_type": "code",
   "execution_count": 2,
   "metadata": {},
   "outputs": [
    {
     "name": "stdout",
     "output_type": "stream",
     "text": [
      "Reformatted booklist...\n",
      "title,author,completed,rating,summary\n",
      "To Kill a Mockingbird,Harper Lee,False,,\n",
      "Pride and Prejudice,Jane Austen,False,,\n",
      "1984,George Orwell,False,,\n",
      "The Great Gatsby,F. Scott Fitzgerald,False,,\n",
      "Moby-Dick,Herman Melville,False,,\n",
      "The Catcher in the Rye,J.D. Salinger,False,,\n",
      "The Lord of the Rings,J.R.R. Tolkien,False,,\n",
      "The Odyssey,Homer,False,,\n",
      "War and Peace,Leo Tolstoy,False,,\n",
      "The Adventures of Huckleberry Finn,Mark Twain,False,,\n",
      "Crime and Punishment,Fyodor Dostoevsky,False,,\n",
      "The Divine Comedy,Dante Alighieri,False,,\n",
      "One Hundred Years of Solitude,Gabriel Garcia Marquez,False,,\n",
      "The Brothers Karamazov,Fyodor Dostoevsky,False,,\n",
      "Jane Eyre,Charlotte Bronte,False,,\n",
      "The Hobbit,J.R.R. Tolkien,False,,\n",
      "Don Quixote,Miguel de Cervantes Saavedra,False,,\n",
      "The Grapes of Wrath,John Steinbeck,False,,\n",
      "Anna Karenina,Leo Tolstoy,False,,\n",
      "The Picture of Dorian Gray,Oscar Wilde,False,,\n",
      "Brave New World,Aldous Huxley,False,,\n",
      "The Iliad,Homer,False,,\n",
      "The Count of Monte Cristo,Alexandre Dumas,False,,\n",
      "Frankenstein,Mary Shelley,False,,\n",
      "The Scarlet Letter,Nathaniel Hawthorne,False,\n"
     ]
    },
    {
     "ename": "AssertionError",
     "evalue": "",
     "output_type": "error",
     "traceback": [
      "\u001b[0;31m---------------------------------------------------------------------------\u001b[0m",
      "\u001b[0;31mAssertionError\u001b[0m                            Traceback (most recent call last)",
      "Cell \u001b[0;32mIn[2], line 2\u001b[0m\n\u001b[1;32m      1\u001b[0m \u001b[38;5;28;01mfrom\u001b[39;00m \u001b[38;5;21;01mtests\u001b[39;00m\u001b[38;5;21;01m.\u001b[39;00m\u001b[38;5;21;01mtest_utils\u001b[39;00m \u001b[38;5;28;01mimport\u001b[39;00m \u001b[38;5;241m*\u001b[39m\n\u001b[0;32m----> 2\u001b[0m \u001b[43mtest_bookstring_to_csv\u001b[49m\u001b[43m(\u001b[49m\u001b[43m)\u001b[49m\n",
      "File \u001b[0;32m~/Documents/bookbridge/tests/test_utils.py:77\u001b[0m, in \u001b[0;36mtest_bookstring_to_csv\u001b[0;34m()\u001b[0m\n\u001b[1;32m     75\u001b[0m csv \u001b[38;5;241m=\u001b[39m bookstring_to_csv(string)\n\u001b[1;32m     76\u001b[0m \u001b[38;5;28mprint\u001b[39m(csv)\n\u001b[0;32m---> 77\u001b[0m \u001b[38;5;28;01massert\u001b[39;00m is_valid_csv(csv)\n",
      "\u001b[0;31mAssertionError\u001b[0m: "
     ]
    }
   ],
   "source": [
    "from tests.test_utils import *\n",
    "test_bookstring_to_csv()"
   ]
  },
  {
   "cell_type": "code",
   "execution_count": 5,
   "metadata": {},
   "outputs": [
    {
     "name": "stderr",
     "output_type": "stream",
     "text": [
      "Inner loop: 100%|██████████| 10/10 [00:01<00:00,  9.28it/s]\n",
      "Inner loop: 100%|██████████| 10/10 [00:01<00:00,  9.39it/s]\n",
      "Inner loop: 100%|██████████| 10/10 [00:01<00:00,  9.39it/s]\n",
      "Inner loop: 100%|██████████| 10/10 [00:01<00:00,  9.44it/s]\n",
      "Inner loop: 100%|██████████| 10/10 [00:01<00:00,  9.51it/s]\n",
      "Outer loop: 100%|██████████| 5/5 [00:05<00:00,  1.07s/it]\n"
     ]
    }
   ],
   "source": [
    "from tqdm import tqdm\n",
    "import time\n",
    "\n",
    "for i in tqdm(range(5), desc='Outer loop'):  # Outer loop progress bar\n",
    "    for j in tqdm(range(10), desc='Inner loop'):  # Inner loop progress bar\n",
    "        time.sleep(0.1)  # Simulating some work"
   ]
  }
 ],
 "metadata": {
  "kernelspec": {
   "display_name": "Python 3",
   "language": "python",
   "name": "python3"
  },
  "language_info": {
   "codemirror_mode": {
    "name": "ipython",
    "version": 3
   },
   "file_extension": ".py",
   "mimetype": "text/x-python",
   "name": "python",
   "nbconvert_exporter": "python",
   "pygments_lexer": "ipython3",
   "version": "3.10.10"
  }
 },
 "nbformat": 4,
 "nbformat_minor": 2
}
