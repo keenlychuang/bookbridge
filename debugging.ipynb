{
 "cells": [
  {
   "cell_type": "markdown",
   "metadata": {},
   "source": [
    "## setup "
   ]
  },
  {
   "cell_type": "code",
   "execution_count": 1,
   "metadata": {},
   "outputs": [
    {
     "name": "stdout",
     "output_type": "stream",
     "text": [
      "title,author,completed,rating,summary\n",
      "To Kill a Mockingbird,Harper Lee,False,,\n",
      "Pride and Prejudice,Jane Austen,False,,\n",
      "1984,George Orwell,False,,\n",
      "The Great Gatsby,F. Scott Fitzgerald,False,,\n",
      "Moby-Dick,Herman Melville,False,,\n",
      "The Catcher in the Rye,J.D. Salinger,False,,\n",
      "The Lord of the Rings,J.R.R. Tolkien,False,,\n",
      "The Odyssey,Homer,False,,\n",
      "War and Peace,Leo Tolstoy,False,,\n",
      "The Adventures of Huckleberry Finn,Mark Twain,False,,\n",
      "Crime and Punishment,Fyodor Dostoevsky,False,,\n",
      "The Divine Comedy,Dante Alighieri,False,,\n",
      "One Hundred Years of Solitude,Gabriel Garcia Marquez,False,,\n",
      "The Brothers Karamazov,Fyodor Dostoevsky,False,,\n",
      "Jane Eyre,Charlotte Bronte,False,,\n",
      "The Hobbit,J.R.R. Tolkien,False,,\n",
      "Don Quixote,Miguel de Cervantes Saavedra,False,,\n",
      "The Grapes of Wrath,John Steinbeck,False,,\n",
      "Anna Karenina,Leo Tolstoy,False,,\n",
      "The Picture of Dorian Gray,Oscar Wilde,False,,\n",
      "Brave New World,Aldous Huxley,False,,\n",
      "The Iliad,Homer,False,,\n",
      "The Count of Monte Cristo,Alexandre Dumas,False,,\n",
      "Frankenstein,Mary Shelley,False,,\n",
      "The Scarlet Letter,Nathaniel Hawthorne,False,,\n"
     ]
    }
   ],
   "source": [
    "import tests.test_utils as test_utils \n",
    "test_utils.test_bookstring_to_csv()"
   ]
  },
  {
   "cell_type": "markdown",
   "metadata": {},
   "source": [
    "## notion api "
   ]
  },
  {
   "cell_type": "code",
   "execution_count": 1,
   "metadata": {},
   "outputs": [],
   "source": [
    "import os\n",
    "from notion_client import Client\n",
    "from dotenv import load_dotenv\n",
    "\n",
    "load_dotenv() \n",
    "notion_token = os.getenv(\"TEST_NOTION_SECRET_KEY\")\n",
    "\n",
    "notion = Client(auth=notion_token)"
   ]
  },
  {
   "cell_type": "code",
   "execution_count": 2,
   "metadata": {},
   "outputs": [],
   "source": [
    "database_id = os.getenv(\"TEST_DB_ID\")\n",
    "database = notion.databases.query(\n",
    "    database_id=database_id\n",
    ")"
   ]
  },
  {
   "cell_type": "code",
   "execution_count": 4,
   "metadata": {},
   "outputs": [
    {
     "name": "stdout",
     "output_type": "stream",
     "text": [
      "2\n"
     ]
    }
   ],
   "source": [
    "print(len(database['results']))"
   ]
  },
  {
   "cell_type": "code",
   "execution_count": 5,
   "metadata": {},
   "outputs": [
    {
     "name": "stdout",
     "output_type": "stream",
     "text": [
      "Simon Chuang is a person 🙋‍♂️\n",
      "python-sdk-test is a bot 😅\n"
     ]
    }
   ],
   "source": [
    "users = notion.users.list()\n",
    "\n",
    "for user in users.get(\"results\"):\n",
    "    name, user_type = user[\"name\"], user[\"type\"]\n",
    "    emoji = \"😅\" if user[\"type\"] == \"bot\" else \"🙋‍♂️\"\n",
    "    print(f\"{name} is a {user_type} {emoji}\")"
   ]
  },
  {
   "cell_type": "code",
   "execution_count": 22,
   "metadata": {},
   "outputs": [
    {
     "name": "stdout",
     "output_type": "stream",
     "text": [
      "{'object': 'database', 'id': '4adfb5df-9053-4622-a9e8-c736d2c459fe', 'cover': None, 'icon': None, 'created_time': '2024-04-18T19:49:00.000Z', 'created_by': {'object': 'user', 'id': 'c70a1832-b747-4b84-a7fd-411e51db197d'}, 'last_edited_by': {'object': 'user', 'id': 'c70a1832-b747-4b84-a7fd-411e51db197d'}, 'last_edited_time': '2024-04-18T19:49:00.000Z', 'title': [{'type': 'text', 'text': {'content': 'Test Database', 'link': None}, 'annotations': {'bold': False, 'italic': False, 'strikethrough': False, 'underline': False, 'code': False, 'color': 'default'}, 'plain_text': 'Test Database', 'href': None}], 'description': [], 'is_inline': False, 'properties': {'Genre': {'id': '%3C%7Dz%5D', 'name': 'Genre', 'type': 'select', 'select': {'options': [{'id': 'c8a2b136-1f53-4a7c-95f2-bc52848a680b', 'name': 'Fiction', 'color': 'default', 'description': None}, {'id': 'd70a1fd9-839b-4c07-ac0d-83a4aca1e01d', 'name': 'Non Fiction', 'color': 'default', 'description': None}, {'id': '06677163-b34f-4738-8121-9cf244c69d2a', 'name': 'Biography', 'color': 'default', 'description': None}, {'id': '29138f23-5a1f-4531-8838-ad5a7f2af06b', 'name': 'Mystery', 'color': 'default', 'description': None}, {'id': '9307ee06-5855-4b0f-90fa-b100911e16ba', 'name': 'Fantasy', 'color': 'default', 'description': None}, {'id': '53bc237f-4348-489b-9b3f-67c190a7b666', 'name': 'Science Fiction', 'color': 'default', 'description': None}, {'id': '6fc878fe-2e1d-4d28-a7d6-d07716a5d75d', 'name': 'Historical', 'color': 'default', 'description': None}, {'id': 'd562f155-05ce-4d35-8d63-828196ff02d1', 'name': 'Romance', 'color': 'default', 'description': None}, {'id': '2420bb38-3e6c-4f61-a8e1-fd4cb3f1f9b6', 'name': 'Thriller', 'color': 'default', 'description': None}, {'id': 'c568c737-e30f-4357-b01b-970eb67010c7', 'name': 'Self Help', 'color': 'default', 'description': None}, {'id': '5fb70531-c243-460f-9496-12100073008a', 'name': 'Poetry', 'color': 'default', 'description': None}, {'id': '89fca385-8400-4541-91fc-2db6daa52ab4', 'name': 'Graphic Novel', 'color': 'default', 'description': None}, {'id': '75eddb14-4f3e-4071-9088-06c7b3b2e5ad', 'name': 'Adventure', 'color': 'default', 'description': None}, {'id': '8c5df95c-cd9b-40d9-9312-8f5dc27a29dc', 'name': 'Horror', 'color': 'default', 'description': None}, {'id': 'c768fea4-0c79-4408-8bc1-eec58b9ed029', 'name': 'True Crime', 'color': 'default', 'description': None}, {'id': '3976b255-9f8c-45c7-9752-95c341903a77', 'name': 'Childrens', 'color': 'default', 'description': None}, {'id': 'd5551102-d761-48a0-9ee6-c3af5421e4b0', 'name': 'Young Adult', 'color': 'default', 'description': None}, {'id': '900f47d0-207f-4bee-b65a-1b8a0f755bf2', 'name': 'Classic Literature', 'color': 'default', 'description': None}, {'id': '9154ff67-5588-42b9-94c7-80d24137e57e', 'name': 'Philosophy', 'color': 'default', 'description': None}, {'id': 'bfa1cc69-406d-4667-84d9-958507a76e81', 'name': 'Anthology', 'color': 'default', 'description': None}, {'id': 'b311979b-9718-4bc5-bd7d-9242d1964d4d', 'name': 'Memoir', 'color': 'default', 'description': None}, {'id': 'bd7730b8-54a9-4ec2-9eb6-70ee12a846b8', 'name': 'Short Story', 'color': 'default', 'description': None}, {'id': '99ce4775-cce9-4a35-bcd8-3d14c46c4d7e', 'name': 'Historical Fiction', 'color': 'default', 'description': None}]}}, 'Recommended By': {'id': 'HGpk', 'name': 'Recommended By', 'type': 'select', 'select': {'options': []}}, 'Want To Read': {'id': '_wKQ', 'name': 'Want To Read', 'type': 'multi_select', 'multi_select': {'options': []}}, 'Status': {'id': 'idt%60', 'name': 'Status', 'type': 'select', 'select': {'options': [{'id': '3aa6730f-3d1e-4728-94de-9de29e002b4d', 'name': 'Completed', 'color': 'green', 'description': None}, {'id': '2130104a-1baa-4620-be91-83619468e6d4', 'name': 'Not Started', 'color': 'gray', 'description': None}, {'id': '62609a09-681b-4c7e-b70c-b96448e37eef', 'name': 'In Progress', 'color': 'orange', 'description': None}]}}, 'Rating': {'id': 'rKmI', 'name': 'Rating', 'type': 'select', 'select': {'options': [{'id': 'b9600f61-cca9-48eb-a299-924d4007bc39', 'name': '⭐', 'color': 'yellow', 'description': None}, {'id': 'f57719d1-5040-4ea8-820b-8a642cabcfe9', 'name': '⭐⭐', 'color': 'yellow', 'description': None}, {'id': '0d50f201-8bdf-449e-b6e8-b65a449c33cf', 'name': '⭐⭐⭐', 'color': 'yellow', 'description': None}, {'id': '03e8c8ea-c820-460e-842b-61686148f2e3', 'name': '⭐⭐⭐⭐', 'color': 'yellow', 'description': None}, {'id': '748c28e5-6d65-4908-a131-298afdcca607', 'name': '⭐⭐⭐⭐⭐', 'color': 'yellow', 'description': None}, {'id': '92eef3eb-8b48-4f71-b502-5573ba563b07', 'name': 'Not Rated', 'color': 'default', 'description': None}]}}, 'Author': {'id': 'tWDj', 'name': 'Author', 'type': 'rich_text', 'rich_text': {}}, 'Title': {'id': 'title', 'name': 'Title', 'type': 'title', 'title': {}}}, 'parent': {'type': 'page_id', 'page_id': '0c16ae29-2a36-49a7-8a53-e46d6882d3c6'}, 'url': 'https://www.notion.so/4adfb5df90534622a9e8c736d2c459fe', 'public_url': None, 'archived': False, 'in_trash': False, 'request_id': '9949cae1-df08-47f7-a053-76c7a532e6ad'}\n"
     ]
    }
   ],
   "source": [
    "from notion_client import Client\n",
    "from dotenv import load_dotenv\n",
    "import os\n",
    "\n",
    "# Load environment variables\n",
    "load_dotenv()\n",
    "\n",
    "page_id = os.getenv('PARENT_TEST_PAGE')\n",
    "api_key = os.getenv('TEST_NOTION_SECRET_KEY') \n",
    "\n",
    "# Initialize the Notion client\n",
    "notion = Client(auth=api_key)\n",
    "\n",
    "id_complete = \"completedanddone\"\n",
    "id_inprogress= \"inprogressnotdone\"\n",
    "id_notstart =\"notevenclosebaby\"\n",
    "\n",
    "args = {\n",
    "        \"parent\": {\n",
    "            \"type\": \"page_id\",\n",
    "            \"page_id\": page_id,\n",
    "        },\n",
    "        \"title\": [\n",
    "            {\n",
    "                \"type\": \"text\",\n",
    "                \"text\": {\n",
    "                    \"content\": \"Test Database\",\n",
    "                },\n",
    "            },\n",
    "        ],\n",
    "        \"properties\": {\n",
    "            \"Title\": {\n",
    "                \"type\": \"title\",\n",
    "                \"title\": {},\n",
    "            },\n",
    "            \"Author\": {\n",
    "                \"type\": \"rich_text\",\n",
    "                \"rich_text\": {},\n",
    "            },            \n",
    "            \"Genre\": {\n",
    "                \"type\": \"select\",\n",
    "                \"select\": {\n",
    "                    \"options\": [\n",
    "                        {\"name\": \"Fantasy\", \"color\": \"blue\"},\n",
    "                        {\"name\": \"Sci-Fi\", \"color\": \"purple\"},\n",
    "                        {\"name\": \"Mystery\", \"color\": \"gray\"},\n",
    "                        {\"name\": \"Non-Fiction\", \"color\": \"brown\"},\n",
    "                        # Add more genres as needed\n",
    "                    ]\n",
    "                }\n",
    "            },\n",
    "            \"Status\":{\n",
    "                \"type\": \"select\", \n",
    "                \"select\": {\n",
    "                    \"options\" :[ \n",
    "                        {\n",
    "                            \"name\": \"Completed\", \n",
    "                            \"color\": \"green\"\n",
    "                        }, \n",
    "                        {\n",
    "                            \"name\": \"Not Started\", \n",
    "                            \"color\": \"gray\"\n",
    "                        },                         \n",
    "                        {\n",
    "                            \"name\": \"In Progress\", \n",
    "                            \"color\": \"orange\"\n",
    "                        }, \n",
    "                    ]\n",
    "                }\n",
    "            },\n",
    "            \"Rating\": {\n",
    "                \"type\": \"select\",\n",
    "                \"select\": {\n",
    "                    \"options\": [\n",
    "                        {\"name\": \"⭐\", \"color\": \"yellow\"},\n",
    "                        {\"name\": \"⭐⭐\", \"color\": \"yellow\"},\n",
    "                        {\"name\": \"⭐⭐⭐\", \"color\": \"yellow\"},\n",
    "                        {\"name\": \"⭐⭐⭐⭐\", \"color\": \"yellow\"},\n",
    "                        {\"name\": \"⭐⭐⭐⭐⭐\", \"color\": \"yellow\"},\n",
    "                        {\"name\": \"Not Rated\", \"color\": \"default\"} \n",
    "                    ]\n",
    "                }\n",
    "            },\n",
    "            \"Recommended By\": {\n",
    "                \"type\": \"select\",\n",
    "                \"select\": {}\n",
    "            },\n",
    "            \"Want To Read\": {\n",
    "                \"type\": \"multi_select\", \n",
    "                \"multi_select\": {} \n",
    "            }          \n",
    "        }\n",
    "    }\n",
    "\n",
    "\n",
    "valid_genres = [\n",
    "                'fiction', 'non-fiction', 'biography', 'mystery', 'fantasy', 'science-fiction',\n",
    "                'historical', 'romance', 'thriller', 'self-help', 'poetry', 'graphic-novel', \n",
    "                'adventure', 'horror', 'true-crime', 'childrens', 'young-adult', 'classic-literature', \n",
    "                'philosophy', 'anthology', 'memoir', 'short-story', 'historical-fiction', \n",
    "]\n",
    "\n",
    "args[\"properties\"][\"Genre\"] = {\n",
    "    \"type\": \"select\",\n",
    "    \"select\": {\n",
    "        \"options\": [\n",
    "            {\"name\": genre.replace('-', ' ').title(), \"color\": \"default\"} \n",
    "            for genre in valid_genres\n",
    "        ]\n",
    "    }\n",
    "}\n",
    "\n",
    "\n",
    "response = notion.databases.create(**args)\n",
    "print(response)"
   ]
  }
 ],
 "metadata": {
  "kernelspec": {
   "display_name": "Python 3",
   "language": "python",
   "name": "python3"
  },
  "language_info": {
   "codemirror_mode": {
    "name": "ipython",
    "version": 3
   },
   "file_extension": ".py",
   "mimetype": "text/x-python",
   "name": "python",
   "nbconvert_exporter": "python",
   "pygments_lexer": "ipython3",
   "version": "3.10.10"
  }
 },
 "nbformat": 4,
 "nbformat_minor": 2
}
