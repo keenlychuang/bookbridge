{
 "cells": [
  {
   "cell_type": "code",
   "execution_count": 1,
   "metadata": {},
   "outputs": [
    {
     "name": "stdout",
     "output_type": "stream",
     "text": [
      "Reading through your booklist...\n",
      "Restructuring your booklist...\n",
      "Reformatted booklist...\n"
     ]
    },
    {
     "name": "stderr",
     "output_type": "stream",
     "text": [
      "Processing Rows: 10it [00:00, 40840.35it/s]\n",
      "autofilling fields: 100%|██████████| 10/10 [00:07<00:00,  1.28it/s]\n"
     ]
    },
    {
     "name": "stdout",
     "output_type": "stream",
     "text": [
      "Creating a Notion page for you...\n"
     ]
    },
    {
     "name": "stderr",
     "output_type": "stream",
     "text": [
      "converting to notion: 100%|██████████| 10/10 [00:21<00:00,  2.14s/it]"
     ]
    },
    {
     "name": "stdout",
     "output_type": "stream",
     "text": [
      "Go Check Out Your New Page: https://www.notion.so/d5c516a91398440dac333b2ca5d02fde\n"
     ]
    },
    {
     "name": "stderr",
     "output_type": "stream",
     "text": [
      "\n"
     ]
    }
   ],
   "source": [
    "from tests.test_utils import * \n",
    "test_pdf_to_notion_10() "
   ]
  },
  {
   "cell_type": "code",
   "execution_count": 5,
   "metadata": {},
   "outputs": [
    {
     "name": "stderr",
     "output_type": "stream",
     "text": [
      "Inner loop: 100%|██████████| 10/10 [00:01<00:00,  9.28it/s]\n",
      "Inner loop: 100%|██████████| 10/10 [00:01<00:00,  9.39it/s]\n",
      "Inner loop: 100%|██████████| 10/10 [00:01<00:00,  9.39it/s]\n",
      "Inner loop: 100%|██████████| 10/10 [00:01<00:00,  9.44it/s]\n",
      "Inner loop: 100%|██████████| 10/10 [00:01<00:00,  9.51it/s]\n",
      "Outer loop: 100%|██████████| 5/5 [00:05<00:00,  1.07s/it]\n"
     ]
    }
   ],
   "source": [
    "from tqdm import tqdm\n",
    "import time\n",
    "\n",
    "for i in tqdm(range(5), desc='Outer loop'):  # Outer loop progress bar\n",
    "    for j in tqdm(range(10), desc='Inner loop'):  # Inner loop progress bar\n",
    "        time.sleep(0.1)  # Simulating some work"
   ]
  },
  {
   "cell_type": "code",
   "execution_count": 1,
   "metadata": {},
   "outputs": [],
   "source": [
    "from tests.test_utils import * \n",
    "test_add_booklist_page_new_select() "
   ]
  }
 ],
 "metadata": {
  "kernelspec": {
   "display_name": "Python 3",
   "language": "python",
   "name": "python3"
  },
  "language_info": {
   "codemirror_mode": {
    "name": "ipython",
    "version": 3
   },
   "file_extension": ".py",
   "mimetype": "text/x-python",
   "name": "python",
   "nbconvert_exporter": "python",
   "pygments_lexer": "ipython3",
   "version": "3.10.10"
  }
 },
 "nbformat": 4,
 "nbformat_minor": 2
}
