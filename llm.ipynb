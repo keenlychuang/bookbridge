{
 "cells": [
  {
   "cell_type": "markdown",
   "metadata": {},
   "source": [
    "## setup "
   ]
  },
  {
   "cell_type": "code",
   "execution_count": 5,
   "metadata": {},
   "outputs": [],
   "source": [
    "from dotenv import load_dotenv\n",
    "import os \n",
    "from openai import OpenAI\n",
    "load_dotenv() \n",
    "client = OpenAI() "
   ]
  },
  {
   "cell_type": "markdown",
   "metadata": {},
   "source": [
    "## sample API call with gpt4 "
   ]
  },
  {
   "cell_type": "code",
   "execution_count": 9,
   "metadata": {},
   "outputs": [
    {
     "name": "stdout",
     "output_type": "stream",
     "text": [
      "Sure! Here is a list of twenty-five of the best books of all time:\n",
      "\n",
      "1. **To Kill a Mockingbird** by Harper Lee\n",
      "2. **Pride and Prejudice** by Jane Austen\n",
      "3. **1984** by George Orwell\n",
      "4. **The Great Gatsby** by F. Scott Fitzgerald\n",
      "5. **Moby-Dick** by Herman Melville\n",
      "6. **The Catcher in the Rye** by J.D. Salinger\n",
      "7. **The Lord of the Rings** by J.R.R. Tolkien\n",
      "8. **The Odyssey** by Homer\n",
      "9. **War and Peace** by Leo Tolstoy\n",
      "10. **The Adventures of Huckleberry Finn** by Mark Twain\n",
      "11. **Crime and Punishment** by Fyodor Dostoevsky\n",
      "12. **The Divine Comedy** by Dante Alighieri\n",
      "13. **One Hundred Years of Solitude** by Gabriel Garcia Marquez\n",
      "14. **The Brothers Karamazov** by Fyodor Dostoevsky\n",
      "15. **Jane Eyre** by Charlotte Bronte\n",
      "16. **The Hobbit** by J.R.R. Tolkien\n",
      "17. **Don Quixote** by Miguel de Cervantes Saavedra\n",
      "18. **The Grapes of Wrath** by John Steinbeck\n",
      "19. **Anna Karenina** by Leo Tolstoy\n",
      "20. **The Picture of Dorian Gray** by Oscar Wilde\n",
      "21. **Brave New World** by Aldous Huxley\n",
      "22. **The Iliad** by Homer\n",
      "23. **The Count of Monte Cristo** by Alexandre Dumas\n",
      "24. **Frankenstein** by Mary Shelley\n",
      "25. **The Scarlet Letter** by Nathaniel Hawthorne\n",
      "\n",
      "These books have stood the test of time and are considered classics in literature. Enjoy exploring these timeless masterpieces!\n"
     ]
    }
   ],
   "source": [
    "gpt_role_prompt = \"You are an AI assistant that can help with a variety of tasks.\" \n",
    "gpt_user_prompt = \"Generate a booklist of twenty five of the best books of all time. Only include the list, and return the response in markdown\"\n",
    "message=[{\"role\": \"assistant\", \"content\": gpt_role_prompt}, {\"role\": \"user\", \"content\": gpt_user_prompt}]\n",
    "temperature=0.2\n",
    "max_tokens=1000\n",
    "frequency_penalty=0.0\n",
    "\n",
    "response = client.chat.completions.create(\n",
    "    model=\"gpt-3.5-turbo\",\n",
    "    messages = message,\n",
    "    temperature=temperature,\n",
    "    max_tokens=max_tokens,\n",
    "    frequency_penalty=frequency_penalty\n",
    ")\n",
    "print(response.choices[0].message.content)"
   ]
  },
  {
   "cell_type": "code",
   "execution_count": 10,
   "metadata": {},
   "outputs": [],
   "source": [
    "first_response = response.choices[0].message.content\n",
    "\n",
    "# output to txt \n",
    "with open('sample.txt', 'w') as file:\n",
    "    file.write(first_response)\n",
    "\n",
    "# return as string \n",
    "with open('sample.txt', 'r') as file:\n",
    "    # Read the entire content of the file into a single string\n",
    "    file_content = file.read()"
   ]
  },
  {
   "cell_type": "markdown",
   "metadata": {},
   "source": [
    "## generate fake lists "
   ]
  },
  {
   "cell_type": "code",
   "execution_count": null,
   "metadata": {},
   "outputs": [],
   "source": []
  },
  {
   "cell_type": "markdown",
   "metadata": {},
   "source": [
    "## prompt with sample lists and parse results "
   ]
  },
  {
   "cell_type": "code",
   "execution_count": null,
   "metadata": {},
   "outputs": [],
   "source": []
  },
  {
   "cell_type": "markdown",
   "metadata": {},
   "source": [
    "## pretty print"
   ]
  },
  {
   "cell_type": "code",
   "execution_count": null,
   "metadata": {},
   "outputs": [],
   "source": []
  }
 ],
 "metadata": {
  "kernelspec": {
   "display_name": "Python 3",
   "language": "python",
   "name": "python3"
  },
  "language_info": {
   "codemirror_mode": {
    "name": "ipython",
    "version": 3
   },
   "file_extension": ".py",
   "mimetype": "text/x-python",
   "name": "python",
   "nbconvert_exporter": "python",
   "pygments_lexer": "ipython3",
   "version": "3.10.10"
  }
 },
 "nbformat": 4,
 "nbformat_minor": 2
}
